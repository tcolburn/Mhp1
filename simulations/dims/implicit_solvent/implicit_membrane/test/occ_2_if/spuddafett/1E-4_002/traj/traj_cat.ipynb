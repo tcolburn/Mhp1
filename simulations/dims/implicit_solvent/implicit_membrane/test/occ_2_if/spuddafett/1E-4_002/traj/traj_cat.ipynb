{
 "cells": [
  {
   "cell_type": "code",
   "execution_count": 3,
   "metadata": {
    "collapsed": true
   },
   "outputs": [],
   "source": [
    "import MDAnalysis as mda\n",
    "import numpy as np"
   ]
  },
  {
   "cell_type": "code",
   "execution_count": 4,
   "metadata": {
    "collapsed": false,
    "scrolled": true
   },
   "outputs": [
    {
     "name": "stdout",
     "output_type": "stream",
     "text": [
      "writing out frames for trajectory 1\n",
      "writing out frames for trajectory 11\n",
      "writing out frames for trajectory 21\n",
      "writing out frames for trajectory 31\n",
      "writing out frames for trajectory 41\n",
      "writing out frames for trajectory 51\n",
      "writing out frames for trajectory 61\n",
      "writing out frames for trajectory 71\n",
      "writing out frames for trajectory 81\n",
      "writing out frames for trajectory 91\n",
      "writing out frames for trajectory 101\n",
      "writing out frames for trajectory 111\n",
      "writing out frames for trajectory 121\n",
      "writing out frames for trajectory 131\n",
      "writing out frames for trajectory 141\n",
      "writing out frames for trajectory 151\n",
      "writing out frames for trajectory 161\n",
      "writing out frames for trajectory 171\n",
      "writing out frames for trajectory 181\n",
      "writing out frames for trajectory 191\n",
      "writing out frames for trajectory 201\n",
      "writing out frames for trajectory 211\n",
      "writing out frames for trajectory 221\n"
     ]
    }
   ],
   "source": [
    "mhp1 = mda.Universe(\"2jln_r10_g470_c22.psf\", \"mhp1_dims_1.dcd\")\n",
    "protein = mhp1.select_atoms(\"protein\")\n",
    "with mda.Writer(\"mhp1_dims_occ2if_1.dcd\", protein.n_atoms) as W:\n",
    "    dcd_name = \"mhp1_dims_\"\n",
    "    for i in xrange(229):\n",
    "        u = mda.Universe(\"2jln_r10_g470_c22.psf\", dcd_name + str(i+1) + \".dcd\")\n",
    "        protein = u.select_atoms(\"protein\")\n",
    "        if (i % 10) == 0:\n",
    "            print \"writing out frames for trajectory %i\" % (i+1)\n",
    "        for ts in u.trajectory:\n",
    "            W.write(protein)"
   ]
  }
 ],
 "metadata": {
  "kernelspec": {
   "display_name": "Python 2",
   "language": "python",
   "name": "python2"
  },
  "language_info": {
   "codemirror_mode": {
    "name": "ipython",
    "version": 2
   },
   "file_extension": ".py",
   "mimetype": "text/x-python",
   "name": "python",
   "nbconvert_exporter": "python",
   "pygments_lexer": "ipython2",
   "version": "2.7.6"
  }
 },
 "nbformat": 4,
 "nbformat_minor": 0
}
