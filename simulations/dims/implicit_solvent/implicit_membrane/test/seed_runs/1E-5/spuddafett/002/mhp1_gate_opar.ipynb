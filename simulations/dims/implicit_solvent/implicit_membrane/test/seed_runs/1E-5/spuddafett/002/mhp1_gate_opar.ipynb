{
 "cells": [
  {
   "cell_type": "code",
   "execution_count": 2,
   "metadata": {
    "collapsed": true
   },
   "outputs": [],
   "source": [
    "import MDAnalysis as mda\n",
    "import numpy as np\n",
    "import matplotlib as mpl\n",
    "import MDAnalysis.analysis.rms as rms"
   ]
  },
  {
   "cell_type": "code",
   "execution_count": 4,
   "metadata": {
    "collapsed": false
   },
   "outputs": [],
   "source": [
    "traj = \"mhp1_dims_occ2if_mash_seed.dcd\" #concatenated trajectory dcd\n",
    "u = mda.Universe(\"2jln_r10_g470_c22.psf\", traj)\n",
    "traj_len = len(u.trajectory)"
   ]
  },
  {
   "cell_type": "code",
   "execution_count": 5,
   "metadata": {
    "collapsed": false,
    "scrolled": true
   },
   "outputs": [],
   "source": [
    "d1 = []\n",
    "d2 = []\n",
    "d3 = []\n",
    "    \n",
    "for ts in u.trajectory:\n",
    "    b_ec = u.select_atoms(\"resid 38:40\") #select bundle for ec_thin comparison\n",
    "    ec_thin = u.select_atoms(\"resid 351:353\") #select extracellular thin gate\n",
    "    b_ic = u.select_atoms(\"resid 152:154\") #sic\n",
    "    ic_thin = u.select_atoms(\"resid 220:222\") #select intracellular thin gate\n",
    "    b_tg = u.select_atoms(\"resid 29 or resid 32\") #sic\n",
    "    thick = u.select_atoms(\"resid 300 or resid 303:304\") #select thick gate\n",
    "    \n",
    "    d1_a = abs(b_ec.center_of_mass() - ec_thin.center_of_mass())\n",
    "    d2_a = abs(b_ic.center_of_mass() - ic_thin.center_of_mass())\n",
    "    d3_a = abs(b_tg.center_of_mass() - thick.center_of_mass())\n",
    "    d1_b = np.linalg.norm(d1_a)\n",
    "    d2_b = np.linalg.norm(d2_a)\n",
    "    d3_b = np.linalg.norm(d3_a)\n",
    "    \n",
    "    d1.append(d1_b) #Ec_thin\n",
    "    d2.append(d2_b) #Ic_thin\n",
    "    d3.append(d3_b) #Thick Gate"
   ]
  },
  {
   "cell_type": "code",
   "execution_count": 6,
   "metadata": {
    "collapsed": false,
    "scrolled": false
   },
   "outputs": [],
   "source": [
    "import matplotlib.pyplot as plt\n",
    "time = len(u.trajectory)\n",
    "fig = plt.figure(figsize = (8,5))\n",
    "ax = fig.add_subplot(111)\n",
    "ax.plot(d1, 'k--', label = \"Extracellular\")\n",
    "ax.plot(d2, 'b--', label = \"Intracellular\")\n",
    "ax.plot(d3, 'r--', label = \"Thick\")\n",
    "box = ax.get_position()\n",
    "ax.set_position([box.x0, box.y0, box.width * 0.7, box.height])\n",
    "ax.legend(loc='center left', bbox_to_anchor=(1, 0.5))\n",
    "ax.set_xlabel(\"time (fs)\")\n",
    "ax.set_ylabel(r\"distance (Angstroms)\")\n",
    "fig.savefig(\"mhp1_gate_tseries_occ2if.pdf\")"
   ]
  }
 ],
 "metadata": {
  "kernelspec": {
   "display_name": "Python 2",
   "language": "python",
   "name": "python2"
  },
  "language_info": {
   "codemirror_mode": {
    "name": "ipython",
    "version": 2
   },
   "file_extension": ".py",
   "mimetype": "text/x-python",
   "name": "python",
   "nbconvert_exporter": "python",
   "pygments_lexer": "ipython2",
   "version": "2.7.6"
  }
 },
 "nbformat": 4,
 "nbformat_minor": 0
}
