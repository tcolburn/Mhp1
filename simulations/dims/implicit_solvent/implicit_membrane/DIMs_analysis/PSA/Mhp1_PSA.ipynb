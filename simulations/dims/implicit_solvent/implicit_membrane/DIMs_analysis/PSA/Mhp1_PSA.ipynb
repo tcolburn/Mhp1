{
 "cells": [
  {
   "cell_type": "code",
   "execution_count": 1,
   "metadata": {
    "collapsed": true
   },
   "outputs": [],
   "source": [
    "%matplotlib inline\n",
    "%load_ext autoreload\n",
    "%autoreload 2"
   ]
  },
  {
   "cell_type": "code",
   "execution_count": 2,
   "metadata": {
    "collapsed": true
   },
   "outputs": [],
   "source": [
    "from MDAnalysis import Universe\n",
    "from MDAnalysis.analysis.align import rotation_matrix\n",
    "from MDAnalysis.analysis.psa import PSA\n",
    "from psa_identifier import PSAIdentifier"
   ]
  },
  {
   "cell_type": "code",
   "execution_count": 3,
   "metadata": {
    "collapsed": true
   },
   "outputs": [],
   "source": [
    "u_I = Universe('structs/2X79_ca_aligned.pdb')\n",
    "u_O = Universe('structs/2JLN_ca_aligned.pdb')\n",
    "ca_I = u_I.select_atoms('name CA')\n",
    "ca_O = u_O.select_atoms('name CA')"
   ]
  },
  {
   "cell_type": "code",
   "execution_count": 4,
   "metadata": {
    "collapsed": false
   },
   "outputs": [
    {
     "data": {
      "text/plain": [
       "array([-0.00046436, -0.00017927,  0.00023112])"
      ]
     },
     "execution_count": 4,
     "metadata": {},
     "output_type": "execute_result"
    }
   ],
   "source": [
    "u_I.atoms.translate(-ca_I.select_atoms('name CA').center_of_mass())\n",
    "u_O.atoms.translate(-ca_O.select_atoms('name CA').center_of_mass())"
   ]
  },
  {
   "cell_type": "code",
   "execution_count": 5,
   "metadata": {
    "collapsed": false
   },
   "outputs": [],
   "source": [
    "I_ca_coords = ca_I.select_atoms('name CA').positions\n",
    "O_ca_coords = ca_O.select_atoms('name CA').positions"
   ]
  },
  {
   "cell_type": "code",
   "execution_count": 6,
   "metadata": {
    "collapsed": true
   },
   "outputs": [],
   "source": [
    "R, rmsd_value = rotation_matrix(I_ca_coords, O_ca_coords)"
   ]
  },
  {
   "cell_type": "code",
   "execution_count": 7,
   "metadata": {
    "collapsed": false
   },
   "outputs": [
    {
     "data": {
      "text/plain": [
       "matrix([[  1.00000000e+00,  -1.09714279e-06,   1.42092279e-06],\n",
       "        [  1.09714370e-06,   1.00000000e+00,  -6.34948890e-07],\n",
       "        [ -1.42092210e-06,   6.34950482e-07,   1.00000000e+00]], dtype=float32)"
      ]
     },
     "execution_count": 7,
     "metadata": {},
     "output_type": "execute_result"
    }
   ],
   "source": [
    "u_O.atoms.rotate(R)"
   ]
  },
  {
   "cell_type": "code",
   "execution_count": 8,
   "metadata": {
    "collapsed": false
   },
   "outputs": [],
   "source": [
    "reference_coordinates = 0.5*(ca_I.select_atoms('name CA').positions\n",
    "    + ca_O.select_atoms('name CA').positions)"
   ]
  },
  {
   "cell_type": "code",
   "execution_count": 9,
   "metadata": {
    "collapsed": false
   },
   "outputs": [],
   "source": [
    "u_ref = Universe('structs/2X79_ca_aligned.pdb')\n",
    "u_ref.atoms.translate(-u_ref.select_atoms('name CA').CA.center_of_mass())\n",
    "u_ref.select_atoms('name CA').CA.set_positions(reference_coordinates)"
   ]
  },
  {
   "cell_type": "code",
   "execution_count": 10,
   "metadata": {
    "collapsed": true
   },
   "outputs": [],
   "source": [
    "method_names = ['GOdMD']\n",
    "labels = [] # Heat map labels\n",
    "simulations = [] # List of simulation topology/trajectory filename pairs\n",
    "universes = [] # List of MDAnalysis Universes representing simulations"
   ]
  },
  {
   "cell_type": "code",
   "execution_count": 11,
   "metadata": {
    "collapsed": false
   },
   "outputs": [],
   "source": [
    "for method in method_names:\n",
    "    # Note: DIMS uses the PSF topology format\n",
    "    topname = 'top.psf' if 'DIMS' in method or 'TMD' in method else 'top.pdb'\n",
    "    pathname = 'fitted_psa.dcd'\n",
    "    method_dir = 'methods/{}'.format(method)\n",
    "    if method is not 'LinInt':\n",
    "        for run in xrange(1, 4): # 3 runs per method\n",
    "            run_dir = '{}/{:03n}'.format(method_dir, run)\n",
    "            topology = '{}/{}'.format(method_dir, topname)\n",
    "            trajectory = '{}/{}'.format(run_dir, pathname)\n",
    "            labels.append(method + '(' + str(run) + ')')\n",
    "            simulations.append((topology, trajectory))\n",
    "    else: # only one LinInt trajectory\n",
    "        topology = '{}/{}'.format(method_dir, topname)\n",
    "        trajectory = '{}/{}'.format(method_dir, pathname)\n",
    "        labels.append(method)\n",
    "        simulations.append((topology, trajectory))"
   ]
  },
  {
   "cell_type": "code",
   "execution_count": 12,
   "metadata": {
    "collapsed": false,
    "scrolled": true
   },
   "outputs": [
    {
     "ename": "ValueError",
     "evalue": "The topology and DCD trajectory files don't have the same number of atoms!\nTopology number of atoms 463\nTrajectory: methods/GOdMD/001/fitted_psa.dcd Number of atoms 425",
     "output_type": "error",
     "traceback": [
      "\u001b[1;31m---------------------------------------------------------------------------\u001b[0m",
      "\u001b[1;31mValueError\u001b[0m                                Traceback (most recent call last)",
      "\u001b[1;32m<ipython-input-12-24369ebbc8d2>\u001b[0m in \u001b[0;36m<module>\u001b[1;34m()\u001b[0m\n\u001b[0;32m      1\u001b[0m \u001b[1;32mfor\u001b[0m \u001b[0msim\u001b[0m \u001b[1;32min\u001b[0m \u001b[0msimulations\u001b[0m\u001b[1;33m:\u001b[0m\u001b[1;33m\u001b[0m\u001b[0m\n\u001b[1;32m----> 2\u001b[1;33m     \u001b[0muniverses\u001b[0m\u001b[1;33m.\u001b[0m\u001b[0mappend\u001b[0m\u001b[1;33m(\u001b[0m\u001b[0mUniverse\u001b[0m\u001b[1;33m(\u001b[0m\u001b[1;33m*\u001b[0m\u001b[0msim\u001b[0m\u001b[1;33m)\u001b[0m\u001b[1;33m)\u001b[0m\u001b[1;33m\u001b[0m\u001b[0m\n\u001b[0m",
      "\u001b[1;32m/usr/local/lib/python2.7/dist-packages/MDAnalysis/core/AtomGroup.pyc\u001b[0m in \u001b[0;36m__init__\u001b[1;34m(self, *args, **kwargs)\u001b[0m\n\u001b[0;32m   3709\u001b[0m \u001b[1;33m\u001b[0m\u001b[0m\n\u001b[0;32m   3710\u001b[0m         \u001b[1;31m# Load coordinates\u001b[0m\u001b[1;33m\u001b[0m\u001b[1;33m\u001b[0m\u001b[0m\n\u001b[1;32m-> 3711\u001b[1;33m         \u001b[0mself\u001b[0m\u001b[1;33m.\u001b[0m\u001b[0mload_new\u001b[0m\u001b[1;33m(\u001b[0m\u001b[0mcoordinatefile\u001b[0m\u001b[1;33m,\u001b[0m \u001b[1;33m**\u001b[0m\u001b[0mkwargs\u001b[0m\u001b[1;33m)\u001b[0m\u001b[1;33m\u001b[0m\u001b[0m\n\u001b[0m\u001b[0;32m   3712\u001b[0m \u001b[1;33m\u001b[0m\u001b[0m\n\u001b[0;32m   3713\u001b[0m         \u001b[1;31m# Deprecated bonds mode handling here, remove eventually.\u001b[0m\u001b[1;33m\u001b[0m\u001b[1;33m\u001b[0m\u001b[0m\n",
      "\u001b[1;32m/usr/local/lib/python2.7/dist-packages/MDAnalysis/core/AtomGroup.pyc\u001b[0m in \u001b[0;36mload_new\u001b[1;34m(self, filename, **kwargs)\u001b[0m\n\u001b[0;32m   4258\u001b[0m                                  \u001b[0mtop_n_atoms\u001b[0m\u001b[1;33m=\u001b[0m\u001b[0mlen\u001b[0m\u001b[1;33m(\u001b[0m\u001b[0mself\u001b[0m\u001b[1;33m.\u001b[0m\u001b[0matoms\u001b[0m\u001b[1;33m)\u001b[0m\u001b[1;33m,\u001b[0m\u001b[1;33m\u001b[0m\u001b[0m\n\u001b[0;32m   4259\u001b[0m                                  \u001b[0mfname\u001b[0m\u001b[1;33m=\u001b[0m\u001b[0mfilename\u001b[0m\u001b[1;33m,\u001b[0m\u001b[1;33m\u001b[0m\u001b[0m\n\u001b[1;32m-> 4260\u001b[1;33m                                  trj_n_atoms=self.trajectory.n_atoms))\n\u001b[0m\u001b[0;32m   4261\u001b[0m \u001b[1;33m\u001b[0m\u001b[0m\n\u001b[0;32m   4262\u001b[0m         \u001b[1;32mreturn\u001b[0m \u001b[0mfilename\u001b[0m\u001b[1;33m,\u001b[0m \u001b[0mself\u001b[0m\u001b[1;33m.\u001b[0m\u001b[0mtrajectory\u001b[0m\u001b[1;33m.\u001b[0m\u001b[0mformat\u001b[0m\u001b[1;33m\u001b[0m\u001b[0m\n",
      "\u001b[1;31mValueError\u001b[0m: The topology and DCD trajectory files don't have the same number of atoms!\nTopology number of atoms 463\nTrajectory: methods/GOdMD/001/fitted_psa.dcd Number of atoms 425"
     ]
    }
   ],
   "source": [
    "for sim in simulations:\n",
    "    universes.append(Universe(*sim))"
   ]
  }
 ],
 "metadata": {
  "kernelspec": {
   "display_name": "Python 2",
   "language": "python",
   "name": "python2"
  },
  "language_info": {
   "codemirror_mode": {
    "name": "ipython",
    "version": 2
   },
   "file_extension": ".py",
   "mimetype": "text/x-python",
   "name": "python",
   "nbconvert_exporter": "python",
   "pygments_lexer": "ipython2",
   "version": "2.7.6"
  }
 },
 "nbformat": 4,
 "nbformat_minor": 0
}
