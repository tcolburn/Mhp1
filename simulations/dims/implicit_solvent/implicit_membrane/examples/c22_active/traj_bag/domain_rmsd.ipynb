{
 "cells": [
  {
   "cell_type": "code",
   "execution_count": 24,
   "metadata": {
    "collapsed": true
   },
   "outputs": [],
   "source": [
    "import MDAnalysis as mda\n",
    "import numpy as np\n",
    "import matplotlib as mpl\n",
    "import MDAnalysis.analysis.rms as rms"
   ]
  },
  {
   "cell_type": "code",
   "execution_count": 25,
   "metadata": {
    "collapsed": true
   },
   "outputs": [],
   "source": [
    "u = mda.Universe(\"2jln_r10_g470_c22.psf\", \"dims_mhp1_oi_run1.dcd\")\n",
    "ref1 = mda.Universe(\"2jln_r10_g470_c22.psf\", \"mhp1_o_mini.dcd\")\n",
    "ref2 = mda.Universe(\"2x79_r10_g470_c22.psf\", \"mhp1_i_mini.dcd\")"
   ]
  },
  {
   "cell_type": "code",
   "execution_count": 26,
   "metadata": {
    "collapsed": false
   },
   "outputs": [
    {
     "name": "stderr",
     "output_type": "stream",
     "text": []
    },
    {
     "data": {
      "text/plain": [
       "'rmsd_domains_o.dat'"
      ]
     },
     "execution_count": 26,
     "metadata": {},
     "output_type": "execute_result"
    }
   ],
   "source": [
    "R1 = rms.RMSD(u, ref1,\n",
    "             select = \"backbone\",\n",
    "             groupselections = [\"backbone and (resid 23-93 or resid 194-291)\",   #Bundle\n",
    "                                \"backbone and (resid 104-137 or resid 142-157 or resid 296-329 or resid 336-395)\",   #Hash motif\n",
    "                                \"backbone and (resid 409-466)\"],  # EC Thin\n",
    "             filename = \"rmsd_domains_o.dat\")\n",
    "R1.run()\n",
    "R1.save()"
   ]
  },
  {
   "cell_type": "code",
   "execution_count": 27,
   "metadata": {
    "collapsed": true
   },
   "outputs": [],
   "source": [
    "import matplotlib.pyplot as plt\n",
    "rmsd = R1.rmsd.T #transpose for plotting\n",
    "time = rmsd[1]\n",
    "fig = plt.figure(figsize = (4,4))\n",
    "ax = fig.add_subplot(111)\n",
    "ax.plot(time, rmsd[3], 'k--', label=\"Bundle\")\n",
    "ax.plot(time, rmsd[4], 'r--', label=\"Hash\")\n",
    "ax.plot(time, rmsd[5], 'b--', label=\"EC_Thin\")\n",
    "ax.legend(loc=\"best\")\n",
    "ax.set_xlabel(\"time (ps)\")\n",
    "ax.set_ylabel(r\"RMSD ($\\AA$)\")\n",
    "fig.savefig(\"rmsd_domains_o.pdf\")"
   ]
  },
  {
   "cell_type": "code",
   "execution_count": 28,
   "metadata": {
    "collapsed": false
   },
   "outputs": [
    {
     "name": "stderr",
     "output_type": "stream",
     "text": []
    },
    {
     "data": {
      "text/plain": [
       "'rmsd_domains_i.dat'"
      ]
     },
     "execution_count": 28,
     "metadata": {},
     "output_type": "execute_result"
    }
   ],
   "source": [
    "R2 = rms.RMSD(u, ref2,\n",
    "             select = \"backbone\",\n",
    "             groupselections = [\"backbone and (resid 23-93 or resid 194-291)\",   #Bundle\n",
    "                                \"backbone and (resid 104-137 or resid 142-157 or resid 296-329 or resid 336-395)\",   #Hash motif\n",
    "                                \"backbone and (resid 409-466)\"],  # EC Thin\n",
    "             filename = \"rmsd_domains_i.dat\")\n",
    "R2.run()\n",
    "R2.save()"
   ]
  },
  {
   "cell_type": "code",
   "execution_count": 29,
   "metadata": {
    "collapsed": true
   },
   "outputs": [],
   "source": [
    "import matplotlib.pyplot as plt\n",
    "rmsd = R2.rmsd.T #transpose for plotting\n",
    "time = rmsd[1]\n",
    "fig = plt.figure(figsize = (4,4))\n",
    "ax = fig.add_subplot(111)\n",
    "ax.plot(time, rmsd[3], 'k--', label=\"Bundle\")\n",
    "ax.plot(time, rmsd[4], 'r--', label=\"Hash\")\n",
    "ax.plot(time, rmsd[5], 'b--', label=\"EC_Thin\")\n",
    "ax.legend(loc=\"best\")\n",
    "ax.set_xlabel(\"time (ps)\")\n",
    "ax.set_ylabel(r\"RMSD ($\\AA$)\")\n",
    "fig.savefig(\"rmsd_domains_i.pdf\")"
   ]
  }
 ],
 "metadata": {
  "kernelspec": {
   "display_name": "Python 2",
   "language": "python",
   "name": "python2"
  },
  "language_info": {
   "codemirror_mode": {
    "name": "ipython",
    "version": 2
   },
   "file_extension": ".py",
   "mimetype": "text/x-python",
   "name": "python",
   "nbconvert_exporter": "python",
   "pygments_lexer": "ipython2",
   "version": "2.7.6"
  }
 },
 "nbformat": 4,
 "nbformat_minor": 0
}
