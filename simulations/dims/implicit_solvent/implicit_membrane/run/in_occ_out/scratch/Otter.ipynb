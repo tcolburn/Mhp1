{
 "cells": [
  {
   "cell_type": "code",
   "execution_count": 1,
   "metadata": {
    "collapsed": false
   },
   "outputs": [],
   "source": [
    "import os\n",
    "import MDAnalysis as mda\n",
    "import numpy as np\n",
    "import matplotlib as mpl\n",
    "import MDAnalysis.analysis.rms as rms\n",
    "import glob\n",
    "import bz2\n",
    "from subprocess import call"
   ]
  },
  {
   "cell_type": "code",
   "execution_count": 6,
   "metadata": {
    "collapsed": false
   },
   "outputs": [
    {
     "name": "stdout",
     "output_type": "stream",
     "text": [
      "You already made that, fuckwit.\n",
      "You already made that, fuckwit.\n"
     ]
    }
   ],
   "source": [
    "dir_count = glob.glob(\"0*\")\n",
    "n = len(dir_count)\n",
    "\n",
    "for i in xrange(n):\n",
    "    dir = str(i+1)\n",
    "    bz2s = glob.glob(\"{}/mhp1_*.out*\".format(dir.zfill(3)))\n",
    "    \n",
    "    if os.path.exists(\"{}/log/recover\".format(dir.zfill(3))) == True:\n",
    "        print \"You already made that, fuckwit.\"\n",
    "    else:\n",
    "        os.mkdir(\"{}/log/recover\".format(dir.zfill(3)))\n",
    "        \n",
    "    for log in bz2s:\n",
    "        print log\n",
    "        try:\n",
    "            if os.path.getsize(log) > 1000000: #bytes look pretty sloppy here. . .\n",
    "                call([\"mv\", \"{}\".format(log), \"{}/log/recover\".format(dir.zfill(3))])\n",
    "            if os.path.getsize(log) == 0:\n",
    "                call([\"mv\", \"{}\".format(log) , \"empty.bz2\"])\n",
    "            else:\n",
    "                call([\"mv\", \"{}\".format(log), \"{}/log\".format(log)])\n",
    "                call([\"bunzip2\", \"{}\".format(log)])\n",
    "        except OSError:   \n",
    "            print \"Your function shit the bed while working on \" + log\n",
    "            "
   ]
  },
  {
   "cell_type": "code",
   "execution_count": null,
   "metadata": {
    "collapsed": true
   },
   "outputs": [],
   "source": []
  }
 ],
 "metadata": {
  "kernelspec": {
   "display_name": "Python 2",
   "language": "python",
   "name": "python2"
  },
  "language_info": {
   "codemirror_mode": {
    "name": "ipython",
    "version": 2
   },
   "file_extension": ".py",
   "mimetype": "text/x-python",
   "name": "python",
   "nbconvert_exporter": "python",
   "pygments_lexer": "ipython2",
   "version": "2.7.6"
  }
 },
 "nbformat": 4,
 "nbformat_minor": 0
}
