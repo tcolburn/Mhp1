{
 "cells": [
  {
   "cell_type": "markdown",
   "metadata": {},
   "source": [
    "# MDSynthesis + distributed + nglview\n",
    "\n",
    "> A match made in the seventh circle.\n",
    "    \n",
    "                            ~ Dante"
   ]
  },
  {
   "cell_type": "markdown",
   "metadata": {},
   "source": [
    "Today I'm going to show off some of the most useful tools I've been playing/working with in recent months. We'll use MDSynthesis for gathering up existing datasets, but that library isn't necessary to use either of the other tools: **``distributed``** and **``nglview``**."
   ]
  },
  {
   "cell_type": "code",
   "execution_count": 2,
   "metadata": {
    "collapsed": true
   },
   "outputs": [],
   "source": [
    "import warnings\n",
    "warnings.filterwarnings(\"ignore\")"
   ]
  },
  {
   "cell_type": "code",
   "execution_count": 3,
   "metadata": {
    "collapsed": false
   },
   "outputs": [],
   "source": [
    "import mdsynthesis as mds"
   ]
  },
  {
   "cell_type": "markdown",
   "metadata": {},
   "source": [
    "First, we gather up a Bundle of wild DIMS simulations (NapA, inward-to-outward transitions). Note that this will only work on our infrastructure but should work even if for you the Sims are read-only:"
   ]
  },
  {
   "cell_type": "code",
   "execution_count": 7,
   "metadata": {
    "collapsed": false
   },
   "outputs": [],
   "source": [
    "b = mds.discover('/nfs/homes4/dldotson/Projects/Transporters/NapA/SYSTEMS/DIMS/dims/S1/in2out/fitted/')\n",
    "b = b.flatten()\n",
    "b = mds.Bundle(sorted(b))"
   ]
  },
  {
   "cell_type": "code",
   "execution_count": 8,
   "metadata": {
    "collapsed": false
   },
   "outputs": [
    {
     "data": {
      "text/plain": [
       "<Bundle([<Sim: 'NapA_S1_i2o_10'>, <Sim: 'NapA_S1_i2o_11'>, <Sim: 'NapA_S1_i2o_12'>, <Sim: 'NapA_S1_i2o_13'>, <Sim: 'NapA_S1_i2o_14'>, <Sim: 'NapA_S1_i2o_15'>, <Sim: 'NapA_S1_i2o_16'>, <Sim: 'NapA_S1_i2o_17'>, <Sim: 'NapA_S1_i2o_18'>, <Sim: 'NapA_S1_i2o_19'>, <Sim: 'NapA_S1_i2o_1'>, <Sim: 'NapA_S1_i2o_20'>, <Sim: 'NapA_S1_i2o_21'>, <Sim: 'NapA_S1_i2o_22'>, <Sim: 'NapA_S1_i2o_23'>, <Sim: 'NapA_S1_i2o_2'>, <Sim: 'NapA_S1_i2o_24'>, <Sim: 'NapA_S1_i2o_25'>, <Sim: 'NapA_S1_i2o_26'>, <Sim: 'NapA_S1_i2o_27'>, <Sim: 'NapA_S1_i2o_28'>, <Sim: 'NapA_S1_i2o_29'>, <Sim: 'NapA_S1_i2o_30'>, <Sim: 'NapA_S1_i2o_31'>, <Sim: 'NapA_S1_i2o_32'>, <Sim: 'NapA_S1_i2o_33'>, <Sim: 'NapA_S1_i2o_34'>, <Sim: 'NapA_S1_i2o_35'>, <Sim: 'NapA_S1_i2o_36'>, <Sim: 'NapA_S1_i2o_3'>, <Sim: 'NapA_S1_i2o_37'>, <Sim: 'NapA_S1_i2o_38'>, <Sim: 'NapA_S1_i2o_39'>, <Sim: 'NapA_S1_i2o_40'>, <Sim: 'NapA_S1_i2o_41'>, <Sim: 'NapA_S1_i2o_42'>, <Sim: 'NapA_S1_i2o_43'>, <Sim: 'NapA_S1_i2o_44'>, <Sim: 'NapA_S1_i2o_45'>, <Sim: 'NapA_S1_i2o_46'>, <Sim: 'NapA_S1_i2o_47'>, <Sim: 'NapA_S1_i2o_48'>, <Sim: 'NapA_S1_i2o_49'>, <Sim: 'NapA_S1_i2o_4'>, <Sim: 'NapA_S1_i2o_50'>, <Sim: 'NapA_S1_i2o_5'>, <Sim: 'NapA_S1_i2o_6'>, <Sim: 'NapA_S1_i2o_7'>, <Sim: 'NapA_S1_i2o_8'>, <Sim: 'NapA_S1_i2o_9'>, <Sim: 'gmx'>, <Sim: 'gmx'>, <Sim: 'gmx'>, <Sim: 'gmx'>, <Sim: 'gmx'>, <Sim: 'gmx'>, <Sim: 'gmx'>, <Sim: 'gmx'>, <Sim: 'gmx'>, <Sim: 'gmx'>, <Sim: 'gmx'>, <Sim: 'gmx'>, <Sim: 'gmx'>, <Sim: 'gmx'>, <Sim: 'gmx'>, <Sim: 'gmx'>, <Sim: 'gmx'>, <Sim: 'gmx'>, <Sim: 'gmx'>, <Sim: 'gmx'>, <Sim: 'gmx'>, <Sim: 'gmx'>, <Sim: 'gmx'>, <Sim: 'gmx'>, <Sim: 'gmx'>, <Sim: 'gmx'>, <Sim: 'gmx'>, <Sim: 'gmx'>, <Sim: 'gmx'>, <Sim: 'gmx'>, <Sim: 'gmx'>, <Sim: 'gmx'>, <Sim: 'gmx'>, <Sim: 'gmx'>, <Sim: 'gmx'>, <Sim: 'gmx'>, <Sim: 'gmx'>, <Sim: 'gmx'>, <Sim: 'gmx'>, <Sim: 'gmx'>, <Sim: 'gmx'>, <Sim: 'gmx'>, <Sim: 'gmx'>, <Sim: 'gmx'>, <Sim: 'gmx'>, <Sim: 'gmx'>, <Sim: 'gmx'>, <Sim: 'gmx'>, <Sim: 'gmx'>, <Sim: 'gmx'>, <Sim: 'raw'>, <Sim: 'raw'>, <Sim: 'raw'>, <Sim: 'raw'>, <Sim: 'raw'>, <Sim: 'raw'>, <Sim: 'raw'>, <Sim: 'raw'>, <Sim: 'raw'>, <Sim: 'raw'>, <Sim: 'raw'>, <Sim: 'raw'>, <Sim: 'raw'>, <Sim: 'raw'>, <Sim: 'raw'>, <Sim: 'raw'>, <Sim: 'raw'>, <Sim: 'raw'>, <Sim: 'raw'>, <Sim: 'raw'>, <Sim: 'raw'>, <Sim: 'raw'>, <Sim: 'raw'>, <Sim: 'raw'>, <Sim: 'raw'>, <Sim: 'raw'>, <Sim: 'raw'>, <Sim: 'raw'>, <Sim: 'raw'>, <Sim: 'raw'>, <Sim: 'raw'>, <Sim: 'raw'>, <Sim: 'raw'>, <Sim: 'raw'>, <Sim: 'raw'>, <Sim: 'raw'>, <Sim: 'raw'>, <Sim: 'raw'>, <Sim: 'raw'>, <Sim: 'raw'>, <Sim: 'raw'>, <Sim: 'raw'>, <Sim: 'raw'>, <Sim: 'raw'>, <Sim: 'raw'>, <Sim: 'raw'>, <Sim: 'raw'>, <Sim: 'raw'>, <Sim: 'raw'>, <Sim: 'raw'>])>"
      ]
     },
     "execution_count": 8,
     "metadata": {},
     "output_type": "execute_result"
    }
   ],
   "source": [
    "b"
   ]
  },
  {
   "cell_type": "code",
   "execution_count": 9,
   "metadata": {
    "collapsed": false
   },
   "outputs": [
    {
     "data": {
      "text/plain": [
       "150"
      ]
     },
     "execution_count": 9,
     "metadata": {},
     "output_type": "execute_result"
    }
   ],
   "source": [
    "len(b)"
   ]
  },
  {
   "cell_type": "markdown",
   "metadata": {},
   "source": [
    "## Visualization of molecular trajectories with ``nglview``"
   ]
  },
  {
   "cell_type": "markdown",
   "metadata": {},
   "source": [
    "From the ``nglview`` docs:\n",
    "\n",
    "> An IPython/Jupyter widget to interactively view molecular structures and trajectories. Utilizes the embeddable NGL Viewer for rendering. Support for showing data from the file-system, RCSB PDB, simpletraj and from objects of analysis libraries mdtraj, pytraj, mdanalysis."
   ]
  },
  {
   "cell_type": "markdown",
   "metadata": {},
   "source": [
    "Since we have a Bundle of DIMS simulations at the ready, we can have a look at some of them. We can make an ``nglview`` widget directly from an MDAnalysis Universe:"
   ]
  },
  {
   "cell_type": "code",
   "execution_count": 11,
   "metadata": {
    "collapsed": false
   },
   "outputs": [],
   "source": [
    "import nglview"
   ]
  },
  {
   "cell_type": "code",
   "execution_count": 12,
   "metadata": {
    "collapsed": true
   },
   "outputs": [],
   "source": [
    "s = b[0]"
   ]
  },
  {
   "cell_type": "code",
   "execution_count": 13,
   "metadata": {
    "collapsed": false
   },
   "outputs": [
    {
     "data": {
      "text/plain": [
       "<Sim: 'NapA_S1_i2o_10'>"
      ]
     },
     "execution_count": 13,
     "metadata": {},
     "output_type": "execute_result"
    }
   ],
   "source": [
    "s"
   ]
  },
  {
   "cell_type": "code",
   "execution_count": 14,
   "metadata": {
    "collapsed": false
   },
   "outputs": [
    {
     "data": {
      "text/plain": [
       "<Universe with 11748 atoms and 11842 bonds>"
      ]
     },
     "execution_count": 14,
     "metadata": {},
     "output_type": "execute_result"
    }
   ],
   "source": [
    "s.universe"
   ]
  },
  {
   "cell_type": "code",
   "execution_count": 18,
   "metadata": {
    "collapsed": false,
    "scrolled": true
   },
   "outputs": [
    {
     "name": "stderr",
     "output_type": "stream",
     "text": [
      "/usr/local/lib/python2.7/dist-packages/ipywidgets/widgets/widget.py:157: DeprecationWarning: Widget._keys_default is deprecated: use @default decorator instead.\n",
      "  def _keys_default(self):\n",
      "/usr/local/lib/python2.7/dist-packages/ipywidgets/widgets/widget.py:157: DeprecationWarning: Widget._keys_default is deprecated: use @default decorator instead.\n",
      "  def _keys_default(self):\n",
      "/usr/local/lib/python2.7/dist-packages/ipykernel/comm/comm.py:52: DeprecationWarning: Comm._comm_id_default is deprecated: use @default decorator instead.\n",
      "  def _comm_id_default(self):\n",
      "/usr/local/lib/python2.7/dist-packages/ipykernel/comm/comm.py:29: DeprecationWarning: Comm._iopub_socket_default is deprecated: use @default decorator instead.\n",
      "  def _iopub_socket_default(self):\n",
      "/usr/local/lib/python2.7/dist-packages/ipykernel/comm/comm.py:24: DeprecationWarning: Comm._kernel_default is deprecated: use @default decorator instead.\n",
      "  def _kernel_default(self):\n",
      "/usr/local/lib/python2.7/dist-packages/ipykernel/comm/comm.py:32: DeprecationWarning: Comm._session_default is deprecated: use @default decorator instead.\n",
      "  def _session_default(self):\n",
      "/usr/local/lib/python2.7/dist-packages/ipykernel/comm/comm.py:41: DeprecationWarning: Comm._topic_default is deprecated: use @default decorator instead.\n",
      "  def _topic_default(self):\n",
      "/usr/local/lib/python2.7/dist-packages/ipykernel/comm/comm.py:24: DeprecationWarning: Comm._kernel_default is deprecated: use @default decorator instead.\n",
      "  def _kernel_default(self):\n",
      "/usr/local/lib/python2.7/dist-packages/ipykernel/comm/comm.py:52: DeprecationWarning: Comm._comm_id_default is deprecated: use @default decorator instead.\n",
      "  def _comm_id_default(self):\n",
      "/usr/local/lib/python2.7/dist-packages/ipykernel/comm/comm.py:32: DeprecationWarning: Comm._session_default is deprecated: use @default decorator instead.\n",
      "  def _session_default(self):\n",
      "/usr/local/lib/python2.7/dist-packages/ipykernel/comm/comm.py:41: DeprecationWarning: Comm._topic_default is deprecated: use @default decorator instead.\n",
      "  def _topic_default(self):\n",
      "/usr/local/lib/python2.7/dist-packages/ipywidgets/widgets/widget.py:194: DeprecationWarning: NGLWidget._comm_changed is deprecated: use @observe and @unobserve instead.\n",
      "  def _comm_changed(self, name, new):\n",
      "/usr/local/lib/python2.7/dist-packages/ipywidgets/widgets/widget.py:513: DeprecationWarning: on_trait_change is deprecated: use observe instead\n",
      "  self.on_trait_change(_validate_border, ['border_width', 'border_style', 'border_color'])\n",
      "/usr/local/lib/python2.7/dist-packages/ipywidgets/widgets/widget.py:157: DeprecationWarning: Widget._keys_default is deprecated: use @default decorator instead.\n",
      "  def _keys_default(self):\n"
     ]
    }
   ],
   "source": [
    "wg = nglview.show_mdanalysis(s.universe)"
   ]
  },
  {
   "cell_type": "code",
   "execution_count": 21,
   "metadata": {
    "collapsed": true
   },
   "outputs": [],
   "source": [
    "wg"
   ]
  },
  {
   "cell_type": "markdown",
   "metadata": {},
   "source": [
    "By feeding in the full universe, we've fed in all the atoms in the system. We probably only care about a subset, though, and we can get better performance if we feed in an AtomGroup of the subset of atoms we actually want to look at:"
   ]
  },
  {
   "cell_type": "code",
   "execution_count": 23,
   "metadata": {
    "collapsed": false
   },
   "outputs": [
    {
     "name": "stderr",
     "output_type": "stream",
     "text": [
      "/usr/local/lib/python2.7/dist-packages/ipywidgets/widgets/widget.py:157: DeprecationWarning: Widget._keys_default is deprecated: use @default decorator instead.\n",
      "  def _keys_default(self):\n",
      "/usr/local/lib/python2.7/dist-packages/ipywidgets/widgets/widget.py:157: DeprecationWarning: Widget._keys_default is deprecated: use @default decorator instead.\n",
      "  def _keys_default(self):\n",
      "/usr/local/lib/python2.7/dist-packages/ipykernel/comm/comm.py:52: DeprecationWarning: Comm._comm_id_default is deprecated: use @default decorator instead.\n",
      "  def _comm_id_default(self):\n",
      "/usr/local/lib/python2.7/dist-packages/ipykernel/comm/comm.py:29: DeprecationWarning: Comm._iopub_socket_default is deprecated: use @default decorator instead.\n",
      "  def _iopub_socket_default(self):\n",
      "/usr/local/lib/python2.7/dist-packages/ipykernel/comm/comm.py:24: DeprecationWarning: Comm._kernel_default is deprecated: use @default decorator instead.\n",
      "  def _kernel_default(self):\n",
      "/usr/local/lib/python2.7/dist-packages/ipykernel/comm/comm.py:32: DeprecationWarning: Comm._session_default is deprecated: use @default decorator instead.\n",
      "  def _session_default(self):\n",
      "/usr/local/lib/python2.7/dist-packages/ipykernel/comm/comm.py:41: DeprecationWarning: Comm._topic_default is deprecated: use @default decorator instead.\n",
      "  def _topic_default(self):\n",
      "/usr/local/lib/python2.7/dist-packages/ipykernel/comm/comm.py:24: DeprecationWarning: Comm._kernel_default is deprecated: use @default decorator instead.\n",
      "  def _kernel_default(self):\n",
      "/usr/local/lib/python2.7/dist-packages/ipykernel/comm/comm.py:52: DeprecationWarning: Comm._comm_id_default is deprecated: use @default decorator instead.\n",
      "  def _comm_id_default(self):\n",
      "/usr/local/lib/python2.7/dist-packages/ipykernel/comm/comm.py:32: DeprecationWarning: Comm._session_default is deprecated: use @default decorator instead.\n",
      "  def _session_default(self):\n",
      "/usr/local/lib/python2.7/dist-packages/ipykernel/comm/comm.py:41: DeprecationWarning: Comm._topic_default is deprecated: use @default decorator instead.\n",
      "  def _topic_default(self):\n",
      "/usr/local/lib/python2.7/dist-packages/ipywidgets/widgets/widget.py:194: DeprecationWarning: NGLWidget._comm_changed is deprecated: use @observe and @unobserve instead.\n",
      "  def _comm_changed(self, name, new):\n",
      "/usr/local/lib/python2.7/dist-packages/ipywidgets/widgets/widget.py:513: DeprecationWarning: on_trait_change is deprecated: use observe instead\n",
      "  self.on_trait_change(_validate_border, ['border_width', 'border_style', 'border_color'])\n",
      "/usr/local/lib/python2.7/dist-packages/ipywidgets/widgets/widget.py:157: DeprecationWarning: Widget._keys_default is deprecated: use @default decorator instead.\n",
      "  def _keys_default(self):\n"
     ]
    }
   ],
   "source": [
    "wg = nglview.show_mdanalysis(s.universe.select_atoms('protein and name CA'))"
   ]
  },
  {
   "cell_type": "code",
   "execution_count": 24,
   "metadata": {
    "collapsed": true
   },
   "outputs": [],
   "source": [
    "wg"
   ]
  },
  {
   "cell_type": "markdown",
   "metadata": {},
   "source": [
    "We can add custom representations, too, using Chimera-style selections. "
   ]
  },
  {
   "cell_type": "code",
   "execution_count": 26,
   "metadata": {
    "collapsed": true
   },
   "outputs": [],
   "source": [
    "wg.add_representation('spacefill', '.CA')"
   ]
  },
  {
   "cell_type": "markdown",
   "metadata": {},
   "source": [
    "## Using ``distributed`` to export work to other machines"
   ]
  },
  {
   "cell_type": "markdown",
   "metadata": {},
   "source": [
    "From the ``distributed`` docs:\n",
    "\n",
    "> Distributed is a lightweight library for distributed computing in Python. It extends both the ``concurrent.futures`` and ``dask`` APIs to moderate sized clusters. Distributed provides data-local computation by keeping data on worker nodes, running computations where data lives, and by managing complex data dependencies between tasks."
   ]
  },
  {
   "cell_type": "markdown",
   "metadata": {},
   "source": [
    "The first step is to set up a scheduler. We can set this up on any machine in the lab, but I'll use my own workstation. On ``chipbacca``, I can do:\n",
    "\n",
    "```\n",
    "dscheduler\n",
    "```\n",
    "\n",
    "and we see that the scheduler server is listening on port 8786.\n",
    "We can connect to it with an ``Executor``, which serves as our interface to shipping work to the scheduler's workers:"
   ]
  },
  {
   "cell_type": "code",
   "execution_count": 18,
   "metadata": {
    "collapsed": true
   },
   "outputs": [],
   "source": [
    "from distributed import Executor, progress"
   ]
  },
  {
   "cell_type": "code",
   "execution_count": 19,
   "metadata": {
    "collapsed": true
   },
   "outputs": [],
   "source": [
    "ex = Executor('chipbacca:8786')"
   ]
  },
  {
   "cell_type": "code",
   "execution_count": 20,
   "metadata": {
    "collapsed": false
   },
   "outputs": [
    {
     "data": {
      "text/plain": [
       "<Executor: scheduler=chipbacca:8786 workers=0 threads=0>"
      ]
     },
     "execution_count": 20,
     "metadata": {},
     "output_type": "execute_result"
    }
   ],
   "source": [
    "ex"
   ]
  },
  {
   "cell_type": "markdown",
   "metadata": {},
   "source": [
    "But for us to get any work done, our scheduler needs some workers. We can log into any machine on our network and run:\n",
    "\n",
    "```\n",
    "dworker --nprocs 8 --nthreads 1 chipbacca:8786\n",
    "```\n",
    "\n",
    "to create 8 workers (processes) with 1 thread each. But since we have a queueing system for distributing work across all our machines, we should be nice and submit our workers as a job:\n",
    "\n",
    "```\n",
    "qsub -b y -V dworker --nprocs 8 --nthreads 1 chipbacca:8786\n",
    "```\n",
    "\n",
    "and we should see that our scheduler notices its new minions."
   ]
  },
  {
   "cell_type": "code",
   "execution_count": 21,
   "metadata": {
    "collapsed": false
   },
   "outputs": [
    {
     "data": {
      "text/plain": [
       "<Executor: scheduler=chipbacca:8786 workers=8 threads=8>"
      ]
     },
     "execution_count": 21,
     "metadata": {},
     "output_type": "execute_result"
    }
   ],
   "source": [
    "ex"
   ]
  },
  {
   "cell_type": "markdown",
   "metadata": {},
   "source": [
    "Let's werk. We have a Bundle of DIMS simulations, which see a transition of NapA from an inward- to an outward-facing state. Perhaps we should get something easy to start: the z-position of the center of mass with time."
   ]
  },
  {
   "cell_type": "code",
   "execution_count": 22,
   "metadata": {
    "collapsed": false
   },
   "outputs": [
    {
     "data": {
      "text/plain": [
       "4.7159480518117007"
      ]
     },
     "execution_count": 22,
     "metadata": {},
     "output_type": "execute_result"
    }
   ],
   "source": [
    "s.universe.atoms.center_of_mass()[2]"
   ]
  },
  {
   "cell_type": "markdown",
   "metadata": {},
   "source": [
    "We need to express this as a function so we can map the work out to our workers."
   ]
  },
  {
   "cell_type": "code",
   "execution_count": 23,
   "metadata": {
    "collapsed": true
   },
   "outputs": [],
   "source": [
    "def get_z_position(sim, atomsel):\n",
    "    \"\"\"Get z-component of the center-of-mass for each frame \n",
    "    from given sim.\n",
    "    \n",
    "    Parameters\n",
    "    ----------\n",
    "    sim : mdsynthesis.Sim\n",
    "        Simulation to get z-component of center-of-mass for.\n",
    "    atomsel : str\n",
    "        Atom selection string to apply giving the atoms to \n",
    "        get center-of-mass for.\n",
    "        \n",
    "    Returns\n",
    "    -------\n",
    "    pandas.Series\n",
    "        Series giving the z-component of the center-of-mass\n",
    "        for each time.\n",
    "    \n",
    "    \"\"\"\n",
    "    import numpy as np\n",
    "    import pandas as pd\n",
    "    atoms = sim.universe.select_atoms(atomsel)\n",
    "\n",
    "    nframes = sim.universe.trajectory.n_frames\n",
    "    \n",
    "    times = np.zeros(nframes)\n",
    "    z_com = np.zeros(nframes)\n",
    "    \n",
    "    for i, ts in enumerate(sim.universe.trajectory):\n",
    "        times[i] = sim.universe.trajectory.time\n",
    "        z_com[i] = atoms.center_of_mass()[2]\n",
    "        \n",
    "    return pd.Series(z_com, index=pd.Float64Index(times), name='z-com')"
   ]
  },
  {
   "cell_type": "markdown",
   "metadata": {},
   "source": [
    "Let's test it out on one simulation:"
   ]
  },
  {
   "cell_type": "code",
   "execution_count": 24,
   "metadata": {
    "collapsed": false
   },
   "outputs": [
    {
     "data": {
      "text/plain": [
       "<Sim: 'NapA_S1_i2o_10' | active universe: 'main'>"
      ]
     },
     "execution_count": 24,
     "metadata": {},
     "output_type": "execute_result"
    }
   ],
   "source": [
    "s"
   ]
  },
  {
   "cell_type": "code",
   "execution_count": 25,
   "metadata": {
    "collapsed": false
   },
   "outputs": [
    {
     "data": {
      "text/plain": [
       "0.000000      4.715948\n",
       "1.000000      4.724737\n",
       "2.000000      4.715122\n",
       "3.000000      4.669568\n",
       "4.000000      4.615996\n",
       "5.000000      4.567842\n",
       "6.000000      4.522301\n",
       "7.000000      4.453215\n",
       "8.000000      4.427373\n",
       "9.000000      4.411255\n",
       "10.000000     4.364684\n",
       "11.000000     4.337990\n",
       "12.000000     4.301215\n",
       "13.000000     4.241995\n",
       "14.000000     4.226140\n",
       "15.000000     4.186588\n",
       "16.000001     4.170983\n",
       "17.000001     4.152306\n",
       "18.000001     4.146538\n",
       "19.000001     4.107781\n",
       "20.000001     4.089231\n",
       "21.000001     4.088165\n",
       "22.000001     4.052312\n",
       "23.000001     4.014691\n",
       "24.000001     3.990937\n",
       "25.000001     3.982774\n",
       "26.000001     3.955422\n",
       "27.000001     3.941301\n",
       "28.000001     3.911046\n",
       "29.000001     3.876631\n",
       "                ...   \n",
       "470.000015    1.268469\n",
       "471.000015    1.256933\n",
       "472.000016    1.242232\n",
       "473.000016    1.278160\n",
       "474.000016    1.232388\n",
       "475.000016    1.217521\n",
       "476.000016    1.230567\n",
       "477.000016    1.208083\n",
       "478.000016    1.206554\n",
       "479.000016    1.179443\n",
       "480.000016    1.152746\n",
       "481.000016    1.135147\n",
       "482.000016    1.198375\n",
       "483.000016    1.154788\n",
       "484.000016    1.169218\n",
       "485.000016    1.179835\n",
       "486.000016    1.173160\n",
       "487.000016    1.164912\n",
       "488.000016    1.169258\n",
       "489.000016    1.192270\n",
       "490.000016    1.186147\n",
       "491.000016    1.203794\n",
       "492.000016    1.205519\n",
       "493.000016    1.206804\n",
       "494.000016    1.212217\n",
       "495.000016    1.168486\n",
       "496.000016    1.142478\n",
       "497.000016    1.158761\n",
       "498.000016    1.121259\n",
       "499.000016    1.143703\n",
       "Name: z-com, dtype: float64"
      ]
     },
     "execution_count": 25,
     "metadata": {},
     "output_type": "execute_result"
    }
   ],
   "source": [
    "get_z_position(s, 'protein')"
   ]
  },
  {
   "cell_type": "markdown",
   "metadata": {},
   "source": [
    "Pretty fast! And what does this timeseries look like?"
   ]
  },
  {
   "cell_type": "code",
   "execution_count": 26,
   "metadata": {
    "collapsed": false
   },
   "outputs": [],
   "source": [
    "%matplotlib inline"
   ]
  },
  {
   "cell_type": "code",
   "execution_count": 27,
   "metadata": {
    "collapsed": false
   },
   "outputs": [
    {
     "data": {
      "text/plain": [
       "<matplotlib.axes._subplots.AxesSubplot at 0x7fe734030790>"
      ]
     },
     "execution_count": 27,
     "metadata": {},
     "output_type": "execute_result"
    },
    {
     "data": {
      "image/png": "[encoded data removed]",
      "text/plain": [
       "<matplotlib.figure.Figure at 0x7fe7a01def10>"
      ]
     },
     "metadata": {},
     "output_type": "display_data"
    }
   ],
   "source": [
    "get_z_position(s, 'protein').plot()"
   ]
  },
  {
   "cell_type": "markdown",
   "metadata": {},
   "source": [
    "This simple measurement resolves the transition. Let's now get all of these serially, and see how long it takes."
   ]
  },
  {
   "cell_type": "code",
   "execution_count": 50,
   "metadata": {
    "collapsed": false
   },
   "outputs": [
    {
     "name": "stdout",
     "output_type": "stream",
     "text": [
      "NapA_S1_i2o_9CPU times: user 49.3 s, sys: 6.64 s, total: 55.9 s\n",
      "Wall time: 56.3 s\n",
      "\n"
     ]
    }
   ],
   "source": [
    "%%time\n",
    "z_com = dict()\n",
    "for sim in b:\n",
    "    print \"\\r{}\".format(sim.name), \n",
    "    z_com[sim.name] = get_z_position(sim, 'protein')"
   ]
  },
  {
   "cell_type": "markdown",
   "metadata": {},
   "source": [
    "Pretty slow. We could do basically the same thing using the ``Bundle.map`` method, but we could do it in parallel on this machine using the ``multiprocessing`` module internally:"
   ]
  },
  {
   "cell_type": "code",
   "execution_count": 28,
   "metadata": {
    "collapsed": false
   },
   "outputs": [
    {
     "name": "stdout",
     "output_type": "stream",
     "text": [
      "CPU times: user 62.8 ms, sys: 64.1 ms, total: 127 ms\n",
      "Wall time: 6.53 s\n"
     ]
    }
   ],
   "source": [
    "%time z_com_map = b.map(get_z_position, atomsel='protein', processes=8)"
   ]
  },
  {
   "cell_type": "markdown",
   "metadata": {},
   "source": [
    "Which is, predictably, about 8 times faster. But if this required more time to bake, with perhaps more than just 50 simulations, we wouldn't want to tie up our notebook session waiting for this to finish. We could instead use our ``distributed`` workers."
   ]
  },
  {
   "cell_type": "code",
   "execution_count": 29,
   "metadata": {
    "collapsed": false,
    "scrolled": false
   },
   "outputs": [],
   "source": [
    "z_com_dist = ex.map(get_z_position, b, atomsel='protein')\n",
    "progress(z_com_dist)"
   ]
  },
  {
   "cell_type": "markdown",
   "metadata": {},
   "source": [
    "A good deal longer; there's some overhead to divvying out jobs to other machines, and the trajectories still have to all get pulled through the network. What if we submit another job of 8 workers to the queue?\n",
    "\n",
    "```\n",
    "qsub -b y -V dworker --nprocs 8 --nthreads 1 chipbacca:8786\n",
    "```"
   ]
  },
  {
   "cell_type": "code",
   "execution_count": 32,
   "metadata": {
    "collapsed": false
   },
   "outputs": [
    {
     "data": {
      "text/plain": [
       "<Executor: scheduler=chipbacca:8786 workers=16 threads=16>"
      ]
     },
     "execution_count": 32,
     "metadata": {},
     "output_type": "execute_result"
    }
   ],
   "source": [
    "ex"
   ]
  },
  {
   "cell_type": "code",
   "execution_count": 33,
   "metadata": {
    "collapsed": false
   },
   "outputs": [],
   "source": [
    "z_com_dist = ex.map(get_z_position, b, atomsel='protein')\n",
    "progress(z_com_dist)"
   ]
  },
  {
   "cell_type": "markdown",
   "metadata": {},
   "source": [
    "Still pretty long. An important consideration when deciding how many workers to have at once is to remember that if they're iterating through trajectories with MDAnalysis they will all be hammering the same NFS filesystem, and probably the same fileserver. The bottleneck can very quickly become I/O. So, less is often more. \n",
    "\n",
    "Tasks that take minutes as opposed to seconds are also better candidates for this kind of parallelism, since for tiny tasks the overhead of scheduling and passing the information (pickling the function, inputs) through the network can be much greater than the time required for the task itself.\n",
    "\n",
    "Regardless, a big plus is that we can continue working in our Python session while these tasks bake; we don't have to wait to keep working, and we could keep adding tasks through the ``Executor`` and let the scheduler do the work of making them happen."
   ]
  }
 ],
 "metadata": {
  "kernelspec": {
   "display_name": "Python 2",
   "language": "python",
   "name": "python2"
  },
  "language_info": {
   "codemirror_mode": {
    "name": "ipython",
    "version": 2
   },
   "file_extension": ".py",
   "mimetype": "text/x-python",
   "name": "python",
   "nbconvert_exporter": "python",
   "pygments_lexer": "ipython2",
   "version": "2.7.6"
  }
 },
 "nbformat": 4,
 "nbformat_minor": 0
}
