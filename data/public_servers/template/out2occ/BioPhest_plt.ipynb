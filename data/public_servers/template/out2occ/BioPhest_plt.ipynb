{
 "cells": [
  {
   "cell_type": "code",
   "execution_count": 3,
   "metadata": {
    "collapsed": false
   },
   "outputs": [],
   "source": [
    "import MDAnalysis as mda\n",
    "import numpy as np\n",
    "import matplotlib as mpl\n",
    "import MDAnalysis.analysis.rms as rms\n",
    "import matplotlib.pyplot as plt"
   ]
  },
  {
   "cell_type": "code",
   "execution_count": 6,
   "metadata": {
    "collapsed": false
   },
   "outputs": [],
   "source": [
    "u1 = mda.Universe(\"2jln_r10_g470_c22.psf\", \"dims_mhp1_i2occ2o_full_002.dcd\")\n",
    "u2 = mda.Universe(\"2jln_r10_g470_c22.psf\", \"dims_mhp1_i2occ2o_full_007.dcd\")\n",
    "u3 = mda.Universe(\"2jln_r10_g470_c22.psf\", \"dims_mhp1_i2occ2o_full_009.dcd\")\n",
    "\n",
    "traj_len = len(u1.trajectory)\n",
    "\n",
    "a1 = []\n",
    "a2 = []\n",
    "a3 = []\n",
    "\n",
    "b1 = []\n",
    "b2 = []\n",
    "b3 = []\n",
    "                  \n",
    "c1 = []\n",
    "c2 = []\n",
    "c3 = []                       "
   ]
  },
  {
   "cell_type": "code",
   "execution_count": 9,
   "metadata": {
    "collapsed": false
   },
   "outputs": [],
   "source": [
    "for ts in u1.trajectory:\n",
    "    \n",
    "    a_bu_ec = u1.select_atoms(\"resid 38:40\") #select bundle for ec_thin comparison\n",
    "    a_ec_thin = u1.select_atoms(\"resid 351:353\") #select extracellular thin gate\n",
    "    a_bu_ic = u1.select_atoms(\"resid 152:154\") #sic\n",
    "    a_ic_thin = u1.select_atoms(\"resid 220:222\") #select intracellular thin gate\n",
    "    a_bu_tg = u1.select_atoms(\"resid 29 or resid 32\") #sic\n",
    "    a_thick = u1.select_atoms(\"resid 300 or resid 303:304\") #select thick gate\n",
    "    \n",
    "  \n",
    "   \n",
    "    a1_a = abs(a_bu_ec.center_of_mass() - a_ec_thin.center_of_mass())\n",
    "    a2_a = abs(a_bu_ic.center_of_mass() - a_ic_thin.center_of_mass())\n",
    "    a3_a = abs(a_bu_tg.center_of_mass() - a_thick.center_of_mass())\n",
    "    a1_bu = np.linalg.norm(a1_a)\n",
    "    a2_bu = np.linalg.norm(a2_a)\n",
    "    a3_bu = np.linalg.norm(a3_a)\n",
    "    \n",
    "    a1.append(a1_bu) #Ec_thin\n",
    "    a2.append(a2_bu) #Ic_thin\n",
    "    a3.append(a3_bu) #Thick Gate\n",
    "    \n",
    "for ts in u2.trajectory:\n",
    "    \n",
    "\n",
    "    b_bu_ec = u2.select_atoms(\"resid 38:40\") #select bundle for ec_thin comparison\n",
    "    b_ec_thin = u2.select_atoms(\"resid 351:353\") #select extracellular thin gate\n",
    "    b_bu_ic = u2.select_atoms(\"resid 152:154\") #sic\n",
    "    b_ic_thin = u2.select_atoms(\"resid 220:222\") #select intracellular thin gate\n",
    "    b_bu_tg = u2.select_atoms(\"resid 29 or resid 32\") #sic\n",
    "    b_thick = u2.select_atoms(\"resid 300 or resid 303:304\") #select thick gate\n",
    "    \n",
    "    b1_a = abs(b_bu_ec.center_of_mass() - b_ec_thin.center_of_mass())\n",
    "    b2_a = abs(b_bu_ic.center_of_mass() - b_ic_thin.center_of_mass())\n",
    "    b3_a = abs(b_bu_tg.center_of_mass() - b_thick.center_of_mass())\n",
    "    b1_bu = np.linalg.norm(b1_a)\n",
    "    b2_bu = np.linalg.norm(b2_a)\n",
    "    b3_bu = np.linalg.norm(b3_a)\n",
    "    \n",
    "    b1.append(b1_bu) #Ec_thin\n",
    "    b2.append(b2_bu) #Ic_thin\n",
    "    b3.append(b3_bu) #Thick Gate\n",
    "    \n",
    "for ts in u3.trajectory:\n",
    "    \n",
    "    c_bu_ec = u3.select_atoms(\"resid 38:40\") #select bundle for ec_thin comparison\n",
    "    c_ec_thin = u3.select_atoms(\"resid 351:353\") #select extracellular thin gate\n",
    "    c_bu_ic = u3.select_atoms(\"resid 152:154\") #sic\n",
    "    c_ic_thin = u3.select_atoms(\"resid 220:222\") #select intracellular thin gate\n",
    "    c_bu_tg = u3.select_atoms(\"resid 29 or resid 32\") #sic\n",
    "    c_thick = u3.select_atoms(\"resid 300 or resid 303:304\") #select thick gate\n",
    "    \n",
    "    c1_a = abs(c_bu_ec.center_of_mass() - c_ec_thin.center_of_mass())\n",
    "    c2_a = abs(c_bu_ic.center_of_mass() - c_ic_thin.center_of_mass())\n",
    "    c3_a = abs(c_bu_tg.center_of_mass() - c_thick.center_of_mass())\n",
    "    c1_bu = np.linalg.norm(c1_a)\n",
    "    c2_bu = np.linalg.norm(c2_a)\n",
    "    c3_bu = np.linalg.norm(c3_a)\n",
    "    \n",
    "    c1.append(c1_bu) #Ec_thin\n",
    "    c2.append(c2_bu) #Ic_thin\n",
    "    c3.append(c3_bu) #Thick Gate"
   ]
  },
  {
   "cell_type": "code",
   "execution_count": 11,
   "metadata": {
    "collapsed": false
   },
   "outputs": [],
   "source": [
    "time = len(u1.trajectory)\n",
    "fig = plt.figure(figsize = (8,5))\n",
    "ax = fig.add_subplot(111)\n",
    "ax.plot(a1, 'k--', label = \"Extracellular\")\n",
    "ax.plot(a2, 'b--', label = \"Intracellular\")\n",
    "ax.plot(a3, 'r--', label = \"Thick\")\n",
    "ax.plot(b1, 'k--')\n",
    "ax.plot(b2, 'b--')\n",
    "ax.plot(b3, 'r--')\n",
    "ax.plot(c1, 'k--')\n",
    "ax.plot(c2, 'b--')\n",
    "ax.plot(c3, 'r--')\n",
    "box = ax.get_position()\n",
    "ax.set_position([box.x0, box.y0, box.width * 0.7, box.height])\n",
    "ax.legend(loc='center left', bbox_to_anchor=(1, 0.5))\n",
    "ax.set_xlabel(\"time (ps)\")\n",
    "ax.set_ylabel(r\"RMSD ($\\AA$)\")\n",
    "fig.savefig(\"mhp1_gate_tseries_if2occ_mhp1.pdf\")\n",
    "plt.show()"
   ]
  }
 ],
 "metadata": {
  "kernelspec": {
   "display_name": "Python 2",
   "language": "python",
   "name": "python2"
  },
  "language_info": {
   "codemirror_mode": {
    "name": "ipython",
    "version": 2
   },
   "file_extension": ".py",
   "mimetype": "text/x-python",
   "name": "python",
   "nbconvert_exporter": "python",
   "pygments_lexer": "ipython2",
   "version": "2.7.6"
  }
 },
 "nbformat": 4,
 "nbformat_minor": 0
}
